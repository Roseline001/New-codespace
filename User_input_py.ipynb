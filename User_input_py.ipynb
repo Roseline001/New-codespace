{
  "nbformat": 4,
  "nbformat_minor": 0,
  "metadata": {
    "colab": {
      "provenance": [],
      "authorship_tag": "ABX9TyM//XHgmAqzN+VhnfFbsiub"
    },
    "kernelspec": {
      "name": "python3",
      "display_name": "Python 3"
    },
    "language_info": {
      "name": "python"
    }
  },
  "cells": [
    {
      "cell_type": "code",
      "execution_count": null,
      "metadata": {
        "colab": {
          "base_uri": "https://localhost:8080/"
        },
        "id": "TEoDYNGuktFe",
        "outputId": "095c85d9-e931-4688-d4f3-705e353957c2"
      },
      "outputs": [
        {
          "output_type": "stream",
          "name": "stdout",
          "text": [
            "Enter your name: Roseline,\n",
            "Enter your age: 24\n",
            "Enter your location: Machakos.\n",
            "Hello, you are Roseline, 24 years old and living in  Machakos.\n"
          ]
        }
      ],
      "source": [
        "name = input(\"Enter your name: \")\n",
        "age = input(\"Enter your age: \")\n",
        "location = input(\"Enter your location: \")\n",
        "print('Hello, you are', name, age, 'years old and living in ',location,)"
      ]
    }
  ]
}