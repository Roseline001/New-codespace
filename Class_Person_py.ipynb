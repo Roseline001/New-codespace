{
  "nbformat": 4,
  "nbformat_minor": 0,
  "metadata": {
    "colab": {
      "provenance": [],
      "authorship_tag": "ABX9TyPzow3QCW78P5+BUMlL9RQM"
    },
    "kernelspec": {
      "name": "python3",
      "display_name": "Python 3"
    },
    "language_info": {
      "name": "python"
    }
  },
  "cells": [
    {
      "cell_type": "code",
      "execution_count": 16,
      "metadata": {
        "colab": {
          "base_uri": "https://localhost:8080/"
        },
        "id": "J5HS2bFMpmdI",
        "outputId": "4da3e4fb-9b23-40cc-ce03-dbdc417860a2"
      },
      "outputs": [
        {
          "output_type": "stream",
          "name": "stdout",
          "text": [
            "Hello, my name is Rose, I am 25 years old and I am a female.\n"
          ]
        }
      ],
      "source": [
        "class Person:\n",
        "  def __init__(self,name,age,gender):\n",
        "    self.name=name\n",
        "    self.age=age\n",
        "    self.gender=gender\n",
        "  def introduce(self):\n",
        "    print(f\"Hello, my name is {self.name}, I am {self.age} years old and I am a {self.gender}.\")\n",
        "person1 = Person(\"Rose\", 25, \"female\")\n",
        "person1.introduce()"
      ]
    }
  ]
}