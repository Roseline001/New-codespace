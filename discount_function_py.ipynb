{
  "nbformat": 4,
  "nbformat_minor": 0,
  "metadata": {
    "colab": {
      "provenance": [],
      "authorship_tag": "ABX9TyOKjE1vGFDzV9wOu0KMbkmV"
    },
    "kernelspec": {
      "name": "python3",
      "display_name": "Python 3"
    },
    "language_info": {
      "name": "python"
    }
  },
  "cells": [
    {
      "cell_type": "code",
      "execution_count": 13,
      "metadata": {
        "colab": {
          "base_uri": "https://localhost:8080/"
        },
        "id": "NMuyFJjNx4aT",
        "outputId": "74296973-fb45-4a9a-8b95-95594a20d1e3"
      },
      "outputs": [
        {
          "output_type": "stream",
          "name": "stdout",
          "text": [
            "Enter the price:3000\n",
            "Enter the percentage:25\n",
            "The discount is 0.25, and new_price is Ksh2250.0. Thanks for shopping with us.\n"
          ]
        }
      ],
      "source": [
        "price=float(input(\"Enter the price:\"))\n",
        "discount_percent = int(input(\"Enter the percentage:\"))\n",
        "def calculate_discount(price,discount_percent):\n",
        "  if discount_percent >= 20:\n",
        "    discount_percent=discount_percent/100\n",
        "    discount=discount_percent*price\n",
        "    new_price=price - discount\n",
        "    print(f\"The discount is {discount_percent}, and new_price is Ksh{new_price}. Thanks for shopping with us.\")\n",
        "  else:\n",
        "    print(f\"The percentage {discount_percent}% is too low, the price Ksh{price} is the original price. Thanks for shopping with us.\")\n",
        "calculate_discount(price,discount_percent)"
      ]
    }
  ]
}