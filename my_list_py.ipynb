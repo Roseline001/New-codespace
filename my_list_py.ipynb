{
  "nbformat": 4,
  "nbformat_minor": 0,
  "metadata": {
    "colab": {
      "provenance": [],
      "authorship_tag": "ABX9TyP95i1+lK+uMDUe6BdXk+aR",
      "include_colab_link": true
    },
    "kernelspec": {
      "name": "python3",
      "display_name": "Python 3"
    },
    "language_info": {
      "name": "python"
    }
  },
  "cells": [
    {
      "cell_type": "markdown",
      "metadata": {
        "id": "view-in-github",
        "colab_type": "text"
      },
      "source": [
        "<a href=\"https://colab.research.google.com/github/Roseline001/New-codespace/blob/main/my_list_py.ipynb\" target=\"_parent\"><img src=\"https://colab.research.google.com/assets/colab-badge.svg\" alt=\"Open In Colab\"/></a>"
      ]
    },
    {
      "cell_type": "code",
      "execution_count": null,
      "metadata": {
        "colab": {
          "base_uri": "https://localhost:8080/"
        },
        "id": "gEbcH-zKpnMo",
        "outputId": "d1be7fd7-e334-4fa3-8c99-89ffb48ed160"
      },
      "outputs": [
        {
          "output_type": "stream",
          "name": "stdout",
          "text": [
            "[]\n",
            "my_list After Append: [10, 20, 30, 40]\n",
            "my_list After Insert: [10, 15, 20, 30, 40]\n",
            "my_list After Extend: [10, 15, 20, 30, 40, 50, 60, 70]\n",
            "[10, 15, 20, 30, 40, 50, 60]\n",
            "[10, 15, 20, 30, 40, 50, 60]\n",
            "3\n"
          ]
        }
      ],
      "source": [
        "my_list = []\n",
        "print(my_list)\n",
        "my_list.append(10)\n",
        "my_list.append(20)\n",
        "my_list.append(30)\n",
        "my_list.append(40)\n",
        "print('my_list After Append:',my_list)\n",
        "my_list.insert(1,15)\n",
        "print('my_list After Insert:',my_list)\n",
        "my_list2 = (50,60,70)\n",
        "my_list.extend(my_list2)\n",
        "print('my_list After Extend:',my_list)\n",
        "del my_list[7]\n",
        "print(my_list)\n",
        "my_list.sort()\n",
        "print(my_list)\n",
        "my_list.index(30)\n",
        "print(my_list.index(30))\n",
        "\n"
      ]
    }
  ]
}